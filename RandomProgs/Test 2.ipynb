{
 "cells": [
  {
   "cell_type": "markdown",
   "id": "79706796",
   "metadata": {},
   "source": [
    "1. Swap elements in an Array/List"
   ]
  },
  {
   "cell_type": "code",
   "execution_count": 2,
   "id": "86b2b4cc",
   "metadata": {},
   "outputs": [
    {
     "name": "stdout",
     "output_type": "stream",
     "text": [
      "The swapped list is:  [11, 15, 13, 14, 12, 16, 17, 18]\n"
     ]
    }
   ],
   "source": [
    "def swap(arr, p1, p2):\n",
    "    arr[p1-1], arr[p2-1] = arr[p2-1], arr[p1-1]\n",
    "    return arr\n",
    "\n",
    "arr = [11, 12, 13, 14, 15, 16, 17, 18]\n",
    "p1 = 2\n",
    "p2 = 5\n",
    "print(\"The swapped list is: \", swap(arr, p1, p2))"
   ]
  },
  {
   "cell_type": "markdown",
   "id": "5eb9fb47",
   "metadata": {},
   "source": [
    "2. Reverse a list"
   ]
  },
  {
   "cell_type": "code",
   "execution_count": 4,
   "id": "e90b7ef5",
   "metadata": {},
   "outputs": [
    {
     "name": "stdout",
     "output_type": "stream",
     "text": [
      "[18, 17, 16, 15, 14, 13, 12, 11]\n"
     ]
    }
   ],
   "source": [
    "def rev_list(list):\n",
    "    list.reverse()\n",
    "    return(list)\n",
    "\n",
    "list = [11, 12, 13, 14, 15, 16, 17, 18]\n",
    "print(rev_list(list))"
   ]
  },
  {
   "cell_type": "markdown",
   "id": "1c79cb0e",
   "metadata": {},
   "source": [
    "3. Find N largest numbers in an array"
   ]
  },
  {
   "cell_type": "code",
   "execution_count": 1,
   "id": "559a630d",
   "metadata": {},
   "outputs": [
    {
     "name": "stdout",
     "output_type": "stream",
     "text": [
      "Step 1 : \n",
      "122\n",
      "[11, 15, 53, 12, 16, 117, 18]\n",
      "Step 2 : \n",
      "117\n",
      "[11, 15, 53, 12, 16, 18]\n",
      "Step 3 : \n",
      "53\n",
      "[11, 15, 12, 16, 18]\n",
      "Final list:  [122, 117, 53]\n"
     ]
    }
   ],
   "source": [
    "def Nlarge(arr, n):\n",
    "    Llist = []\n",
    "    for j in range(n):\n",
    "        print(\"Step\",j+1, \": \")\n",
    "        large = 0\n",
    "        for i in range(len(arr)):\n",
    "            if arr[i] > large:\n",
    "                large = arr[i]\n",
    "                \n",
    "        print(large)    \n",
    "        Llist.append(large)\n",
    "        arr.remove(large)\n",
    "        print(arr)\n",
    "            \n",
    "    print(\"Final list: \", Llist)\n",
    "\n",
    "arr = [11, 15, 53, 122, 12, 16, 117, 18]\n",
    "n = 3 \n",
    "Nlarge(arr, n)"
   ]
  },
  {
   "cell_type": "markdown",
   "id": "d9d4f766",
   "metadata": {},
   "source": [
    "4. Remove empty lists from a List"
   ]
  },
  {
   "cell_type": "code",
   "execution_count": 3,
   "id": "ac302053",
   "metadata": {},
   "outputs": [
    {
     "name": "stdout",
     "output_type": "stream",
     "text": [
      "[11, 15, 53, 122, 12, 16, 117, 18]\n"
     ]
    }
   ],
   "source": [
    "arr = [11, [], 15, 53, [], 122, [], 12, 16, 117, 18]\n",
    "clean_list = list(filter(None, arr))\n",
    "print(clean_list)"
   ]
  },
  {
   "cell_type": "markdown",
   "id": "49307a9f",
   "metadata": {},
   "source": [
    "5. Copy elements from one list to another"
   ]
  },
  {
   "cell_type": "code",
   "execution_count": 5,
   "id": "bda6cfe6",
   "metadata": {},
   "outputs": [
    {
     "name": "stdout",
     "output_type": "stream",
     "text": [
      "[11, 12, 13, 14, 15, 16, 17, 18] [11, 12, 13, 14, 15, 16, 17, 18]\n"
     ]
    }
   ],
   "source": [
    "def copy_list(list):\n",
    "    copy = list[:]\n",
    "    return copy\n",
    "\n",
    "list = [11, 12, 13, 14, 15, 16, 17, 18]\n",
    "print(list, copy_list(list))"
   ]
  },
  {
   "cell_type": "markdown",
   "id": "f92499a2",
   "metadata": {},
   "source": [
    "6. Convert a list of numbers into a list of sum of their digits"
   ]
  },
  {
   "cell_type": "code",
   "execution_count": 9,
   "id": "f559eb74",
   "metadata": {},
   "outputs": [
    {
     "name": "stdout",
     "output_type": "stream",
     "text": [
      "[2, 6, 8, 5, 3, 7, 10, 9]\n"
     ]
    }
   ],
   "source": [
    "def digitsum(list):\n",
    "    fin_list = []\n",
    "    for i in list:\n",
    "        sum = 0\n",
    "        for j in str(i):\n",
    "            sum += int(j)\n",
    "        fin_list.append(sum)\n",
    "    return fin_list    \n",
    "\n",
    "list = [11, 15, 53, 122, 12, 16, 1117, 18]\n",
    "print(digitsum(list))"
   ]
  },
  {
   "cell_type": "markdown",
   "id": "59a6774e",
   "metadata": {},
   "source": [
    "7. Break a string list into chunks of n by using generator(yield func)"
   ]
  },
  {
   "cell_type": "code",
   "execution_count": 6,
   "id": "cf2501e9",
   "metadata": {},
   "outputs": [
    {
     "name": "stdout",
     "output_type": "stream",
     "text": [
      "[['hello', 'hunny', 'bunny', 'what'], ['you', 'doin', 'talking', 'with'], ['no', 'network', 'are', 'you'], ['now', 'lol']]\n"
     ]
    }
   ],
   "source": [
    "def break_list_into_chunks(list, n):\n",
    "    for k in range(0, len(list), n):\n",
    "        yield list[k:k+n]\n",
    "        \n",
    "my_list = ['hello', 'hunny', 'bunny', 'what',\n",
    "           'you','doin', 'talking', 'with',\n",
    "               'no','network', 'are', 'you', 'now', 'lol'] \n",
    "\n",
    "n = 4\n",
    "fin = list(break_list_into_chunks(my_list, n))\n",
    "print(fin)"
   ]
  }
 ],
 "metadata": {
  "kernelspec": {
   "display_name": "Python 3",
   "language": "python",
   "name": "python3"
  },
  "language_info": {
   "codemirror_mode": {
    "name": "ipython",
    "version": 3
   },
   "file_extension": ".py",
   "mimetype": "text/x-python",
   "name": "python",
   "nbconvert_exporter": "python",
   "pygments_lexer": "ipython3",
   "version": "3.8.8"
  }
 },
 "nbformat": 4,
 "nbformat_minor": 5
}

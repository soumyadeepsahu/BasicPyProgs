{
 "cells": [
  {
   "cell_type": "markdown",
   "id": "8b0b9eea",
   "metadata": {},
   "source": [
    "1. Adding a subtracting matrices"
   ]
  },
  {
   "cell_type": "code",
   "execution_count": 11,
   "id": "cbc96cb9",
   "metadata": {},
   "outputs": [
    {
     "name": "stdout",
     "output_type": "stream",
     "text": [
      "A=\n",
      " [[1 2]\n",
      " [3 4]]\n",
      "B=\n",
      " [[7 6]\n",
      " [9 8]]\n",
      "A+B=\n",
      " [[ 8  8]\n",
      " [12 12]]\n",
      "A-B=\n",
      " [[-6 -4]\n",
      " [-6 -4]]\n"
     ]
    }
   ],
   "source": [
    "import numpy as np\n",
    "\n",
    "A = np.matrix([[1,2],[3,4]])\n",
    "B = np.matrix([[7,6],[9,8]])\n",
    "\n",
    "print(\"A=\\n\", A)\n",
    "print(\"B=\\n\", B)\n",
    "\n",
    "print(\"A+B=\\n\", np.add(A, B))\n",
    "print(\"A-B=\\n\", np.subtract(A, B))"
   ]
  },
  {
   "cell_type": "markdown",
   "id": "3ad4b5ac",
   "metadata": {},
   "source": [
    "2. Multiply 2 matrices"
   ]
  },
  {
   "cell_type": "code",
   "execution_count": 12,
   "id": "8994fc91",
   "metadata": {},
   "outputs": [
    {
     "name": "stdout",
     "output_type": "stream",
     "text": [
      "A.B\n",
      " [[ 7  6  5 12]\n",
      " [11 10  9 20]\n",
      " [ 6  8 10 16]]\n"
     ]
    }
   ],
   "source": [
    "import numpy as np\n",
    "\n",
    "A = [[1,2],\n",
    "     [2,3],\n",
    "     [3,1]]\n",
    "\n",
    "B = [[1,2,3,4],\n",
    "     [3,2,1,4]]\n",
    "\n",
    "print(\"A.B\\n\", np.dot(A, B))"
   ]
  },
  {
   "cell_type": "markdown",
   "id": "5d288401",
   "metadata": {},
   "source": [
    "3. Tranpose of a matrix"
   ]
  },
  {
   "cell_type": "code",
   "execution_count": 25,
   "id": "fa3824d6",
   "metadata": {},
   "outputs": [
    {
     "name": "stdout",
     "output_type": "stream",
     "text": [
      "Transpose of A is \n",
      " [[1 2]\n",
      " [2 3]\n",
      " [3 4]]\n",
      "Transpose of B is\n",
      "[1, 2]\n",
      "[2, 3]\n",
      "[3, 4]\n"
     ]
    }
   ],
   "source": [
    "A = np.matrix([[1,2,3],\n",
    "               [2,3,4]])\n",
    "\n",
    "print(\"Transpose of A is \\n\", A.T)\n",
    "\n",
    "B = [(1,2,3),\n",
    "     (2,3,4)]\n",
    "\n",
    "BT = map(list, zip(*B))\n",
    "print(\"Transpose of B is\")\n",
    "for row in BT:\n",
    "    print(row)"
   ]
  },
  {
   "cell_type": "markdown",
   "id": "a8adf336",
   "metadata": {},
   "source": [
    "4. Vertical Concatenation of strings"
   ]
  },
  {
   "cell_type": "code",
   "execution_count": 44,
   "id": "5634c6c9",
   "metadata": {},
   "outputs": [
    {
     "name": "stdout",
     "output_type": "stream",
     "text": [
      "['Potatoes are good ', 'Beast is killing him']\n"
     ]
    }
   ],
   "source": [
    "from itertools import zip_longest as zl\n",
    "\n",
    "list = [[\"Potatoes\", \"Beast\"], [\"are\", \"is\"], [\"good\", \"killing\"],[\"\", \"him\"]]\n",
    "\n",
    "final = [\" \".join(ele) for ele in zl(*list, fillvalue=\"\")]\n",
    "\n",
    "print(str(final))"
   ]
  },
  {
   "cell_type": "markdown",
   "id": "472d3ab0",
   "metadata": {},
   "source": [
    "5. "
   ]
  }
 ],
 "metadata": {
  "kernelspec": {
   "display_name": "Python 3",
   "language": "python",
   "name": "python3"
  },
  "language_info": {
   "codemirror_mode": {
    "name": "ipython",
    "version": 3
   },
   "file_extension": ".py",
   "mimetype": "text/x-python",
   "name": "python",
   "nbconvert_exporter": "python",
   "pygments_lexer": "ipython3",
   "version": "3.8.8"
  }
 },
 "nbformat": 4,
 "nbformat_minor": 5
}

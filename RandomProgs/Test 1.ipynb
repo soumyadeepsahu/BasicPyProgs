{
 "cells": [
  {
   "cell_type": "markdown",
   "id": "4b352146",
   "metadata": {},
   "source": [
    "1. Calculating final amount after applying yearly compund interest"
   ]
  },
  {
   "cell_type": "code",
   "execution_count": 35,
   "id": "44f3f1e8",
   "metadata": {},
   "outputs": [
    {
     "name": "stdout",
     "output_type": "stream",
     "text": [
      "What is the amount of principal that you want to invest: 10000\n",
      "How many years you want to invest it for: 4\n",
      "The principal amount after 4.0 years is 20736.0 rupees\n"
     ]
    }
   ],
   "source": [
    "def compound(p, rate, time):\n",
    "    final = p * pow(1+rate/100, time)\n",
    "    print(\"The principal amount after\", time, \"years is\", final, \"rupees\")\n",
    "    \n",
    "p= float(input('What is the amount of principal that you want to invest: '))\n",
    "t= float(input('How many years you want to invest it for: '))\n",
    "t= t - (t%1)\n",
    "r= 20.0\n",
    "compound(p, r, t)\n"
   ]
  },
  {
   "cell_type": "markdown",
   "id": "7dd97269",
   "metadata": {},
   "source": [
    "2. Sum of Squares"
   ]
  },
  {
   "cell_type": "code",
   "execution_count": 1,
   "id": "0600079e",
   "metadata": {},
   "outputs": [
    {
     "name": "stdout",
     "output_type": "stream",
     "text": [
      "Upto which number shall we calculate the sum of squares to?\n",
      "506\n",
      "43312841\n"
     ]
    }
   ],
   "source": [
    "n = int(input(\"Upto which number shall we calculate the sum of squares to?\\n\"))\n",
    "sum = 0\n",
    "for i in range(1, n+1):\n",
    "    sum += i*i\n",
    "print(sum)    \n",
    "    "
   ]
  },
  {
   "cell_type": "markdown",
   "id": "be8105f2",
   "metadata": {},
   "source": [
    "3. To check if a given number is prime or not"
   ]
  },
  {
   "cell_type": "code",
   "execution_count": 11,
   "id": "29b581f5",
   "metadata": {},
   "outputs": [
    {
     "name": "stdout",
     "output_type": "stream",
     "text": [
      "Enter a number:50\n",
      "It's not a prime number. Preparing to annihilate...\n"
     ]
    }
   ],
   "source": [
    "def ifprime(n):\n",
    "    for i in range(2, n):\n",
    "        if n % i == 0:\n",
    "            print(\"It's not a prime number. Preparing to annihilate...\")\n",
    "            break\n",
    "    else:        \n",
    "        print(\"All hail prime number\", n)\n",
    "\n",
    "num = int(input(\"Enter a number:\"))\n",
    "ifprime(num)\n",
    "        "
   ]
  },
  {
   "cell_type": "markdown",
   "id": "fdc37256",
   "metadata": {},
   "source": [
    "4. Find the largest Number in an array"
   ]
  },
  {
   "cell_type": "code",
   "execution_count": 4,
   "id": "bb468aa1",
   "metadata": {
    "scrolled": true
   },
   "outputs": [
    {
     "name": "stdout",
     "output_type": "stream",
     "text": [
      "Largest number in the array is: 900\n"
     ]
    }
   ],
   "source": [
    "def large(arr, l):\n",
    "    max = arr[0]\n",
    "    for i in range(0, l):\n",
    "        if arr[i] > max:\n",
    "            max = arr[i]\n",
    "    return max\n",
    "arr = [45, 78, 67, 900, 200, 22, 34, 56, 21, 2, 37]\n",
    "length = len(arr)\n",
    "print(\"Largest number in the array is:\", large(arr,length))"
   ]
  },
  {
   "cell_type": "markdown",
   "id": "d8e40329",
   "metadata": {},
   "source": [
    "5. Rotating an array"
   ]
  },
  {
   "cell_type": "code",
   "execution_count": 27,
   "id": "a4905666",
   "metadata": {
    "scrolled": true
   },
   "outputs": [
    {
     "name": "stdout",
     "output_type": "stream",
     "text": [
      "Enter the number of points by which you want to rotate the array:5\n",
      "Left rotated array:\n",
      " [6, 7, 1, 2, 3, 4, 5]\n"
     ]
    }
   ],
   "source": [
    "def leftrotate(arr, l, p):\n",
    "    arr = arr\n",
    "    arr[:] = arr[p:l]+arr[0:p]\n",
    "    return arr\n",
    "\n",
    "arr = [1, 2, 3, 4, 5, 6, 7]\n",
    "length = len(arr)\n",
    "points = int(input(\"Enter the number of points by which you want to rotate the array:\"))\n",
    "\n",
    "print(\"Left rotated array:\\n\", leftrotate(arr, length, points))"
   ]
  },
  {
   "cell_type": "markdown",
   "id": "7b932bdd",
   "metadata": {},
   "source": [
    "6. To check if array is monotonic in ascending or descending order"
   ]
  },
  {
   "cell_type": "code",
   "execution_count": 34,
   "id": "583736f8",
   "metadata": {},
   "outputs": [
    {
     "data": {
      "text/plain": [
       "True"
      ]
     },
     "execution_count": 34,
     "metadata": {},
     "output_type": "execute_result"
    }
   ],
   "source": [
    "def isMonotonic(arr):\n",
    "    return(all(arr[i]<=arr[i+1] for i in range(0, len(arr)-1)) or\n",
    "          all(arr[i]>=arr[i+1] for i in range(0, len(arr)-1)))\n",
    "arr = [9, 6, 3, 2, 1]\n",
    "isMonotonic(arr)\n"
   ]
  }
 ],
 "metadata": {
  "kernelspec": {
   "display_name": "Python 3",
   "language": "python",
   "name": "python3"
  },
  "language_info": {
   "codemirror_mode": {
    "name": "ipython",
    "version": 3
   },
   "file_extension": ".py",
   "mimetype": "text/x-python",
   "name": "python",
   "nbconvert_exporter": "python",
   "pygments_lexer": "ipython3",
   "version": "3.8.8"
  }
 },
 "nbformat": 4,
 "nbformat_minor": 5
}
